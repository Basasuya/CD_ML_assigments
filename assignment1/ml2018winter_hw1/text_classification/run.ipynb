{
 "cells": [
  {
   "cell_type": "markdown",
   "metadata": {},
   "source": [
    "# Text Classification\n",
    "*Complete and hand in this completed worksheet (including its outputs and any supporting code outside of the worksheet) with your assignment submission. Please check the pdf file for more details.*\n",
    "\n",
    "In this exercise you will:\n",
    "    \n",
    "- implement a of spam classifier with **Naive Bayes method** for real world email messages\n",
    "- learn the **training and testing phase** for Naive Bayes classifier  \n",
    "- get an idea of the **precision-recall** tradeoff"
   ]
  },
  {
   "cell_type": "code",
   "execution_count": 2,
   "metadata": {},
   "outputs": [],
   "source": [
    "# some basic imports\n",
    "import numpy as np\n",
    "import matplotlib.pyplot as plt\n",
    "import scipy.sparse\n",
    "%matplotlib inline\n",
    "\n",
    "%load_ext autoreload\n",
    "%autoreload 2"
   ]
  },
  {
   "cell_type": "code",
   "execution_count": 20,
   "metadata": {},
   "outputs": [
    {
     "name": "stderr",
     "output_type": "stream",
     "text": [
      "/home/basasuya/anaconda3/lib/python3.6/site-packages/scipy/sparse/compressed.py:746: SparseEfficiencyWarning: Changing the sparsity structure of a csr_matrix is expensive. lil_matrix is more efficient.\n",
      "  SparseEfficiencyWarning)\n"
     ]
    }
   ],
   "source": [
    "# ham_train contains the occurrences of each word in ham emails. 1-by-N vector\n",
    "ham_train = np.loadtxt('ham_train.csv', delimiter=',').astype(np.int)\n",
    "# spam_train contains the occurrences of each word in spam emails. 1-by-N vector\n",
    "spam_train = np.loadtxt('spam_train.csv', delimiter=',').astype(np.int)\n",
    "# N is the size of vocabulary.\n",
    "N = ham_train.shape[0]\n",
    "# There 9034 ham emails and 3372 spam emails in the training samples\n",
    "num_ham_train = 9034\n",
    "num_spam_train = 3372\n",
    "# Do smoothing\n",
    "x = np.vstack([ham_train, spam_train]) + 1\n",
    "\n",
    "# ham_test contains the occurences of each word in each ham test email. P-by-N vector, with P is number of ham test emails.\n",
    "i,j,ham_test = np.loadtxt('ham_test.txt').T.astype(np.int)\n",
    "# print(i, j, ham_test)\n",
    "ham_test_tight = scipy.sparse.coo_matrix((ham_test, (i - 1, j - 1)))\n",
    "ham_test = scipy.sparse.csr_matrix((ham_test_tight.shape[0], ham_train.shape[0]))\n",
    "ham_test[:, 0:ham_test_tight.shape[1]] = ham_test_tight\n",
    "# spam_test contains the occurences of each word in each spam test email. Q-by-N vector, with Q is number of spam test emails.\n",
    "i,j,spam_test = np.loadtxt('spam_test.txt').T.astype(np.int)\n",
    "spam_test_tight = scipy.sparse.csr_matrix((spam_test, (i - 1, j - 1)))\n",
    "spam_test = scipy.sparse.csr_matrix((spam_test_tight.shape[0], spam_train.shape[0]))\n",
    "spam_test[:, 0:spam_test_tight.shape[1]] = spam_test_tight\n"
   ]
  },
  {
   "cell_type": "markdown",
   "metadata": {},
   "source": [
    "## Now let's implement a ham/spam email classifier. Please refer to the PDF file for details"
   ]
  },
  {
   "cell_type": "code",
   "execution_count": 21,
   "metadata": {},
   "outputs": [
    {
     "data": {
      "text/plain": [
       "array([52913, 27709,  2571, 23471, 23631,  8058, 22602, 33609, 35796,\n",
       "       60120])"
      ]
     },
     "execution_count": 21,
     "metadata": {},
     "output_type": "execute_result"
    }
   ],
   "source": [
    "# question 1\n",
    "p_spam = np.zeros((len(spam_train),2))\n",
    "for i in range(len(spam_train)):\n",
    "    p_spam[i,:] = [spam_train[i] + 1, 3372 + 2]\n",
    "    \n",
    "p_ham = np.zeros((len(ham_train),2))\n",
    "for i in range(len(ham_train)):\n",
    "    p_ham[i,:] = [ham_train[i] + 1, 9034 + 2]\n",
    "  \n",
    "    \n",
    "ask1 = np.zeros((len(ham_train)))\n",
    "for i in range(len(ham_train)):\n",
    "    ask1[i] = np.log(p_spam[i][0]) + np.log(p_ham[i][1]) - np.log(p_spam[i][1]) - np.log(p_ham[i][0])\n",
    "ask1.argsort()[:10]"
   ]
  },
  {
   "cell_type": "code",
   "execution_count": 22,
   "metadata": {},
   "outputs": [],
   "source": [
    "#question2 question4\n",
    "from likelihood import likelihood\n",
    "l = likelihood(x)\n",
    "import tensorflow as tf\n",
    "\n",
    "A = l\n",
    "B = ham_test.T.todense()\n",
    "C = tf.matmul(A, B)\n",
    "with tf.Session() as sess:\n",
    "    result = sess.run(C)\n",
    "\n",
    "A = l\n",
    "B = spam_test.T.todense()\n",
    "C = tf.matmul(A, B)\n",
    "with tf.Session() as sess:\n",
    "    result2 = sess.run(C)"
   ]
  },
  {
   "cell_type": "code",
   "execution_count": 28,
   "metadata": {},
   "outputs": [],
   "source": [
    "\n",
    "# print(l.shape, ham_test.shape)\n",
    "tp = 0\n",
    "fp = 0\n",
    "fn = 0\n",
    "tn = 0\n",
    "\n",
    "# ham_ans = np.dot(l, ham_test.T)\n",
    "for i in range(ham_test.shape[0]):\n",
    "#     spamPro = 0\n",
    "#     hamPro = 0\n",
    "#     print(i)\n",
    "#     for j in range(ham_test.shape[1]):\n",
    "#         hamPro = hamPro + l[0][j] * ham_test[i, j]\n",
    "#         spamPro = spamPro + l[1][j] * ham_test[i, j]\n",
    "    if(result[0][i] < result[1][i]):\n",
    "        fp = fp + 1\n",
    "    else:\n",
    "        tn = tn + 1\n",
    "        \n",
    "for i in range(spam_test.shape[0]):\n",
    "#     spamPro = 0\n",
    "#     hamPro = 0\n",
    "#     print(i)\n",
    "#     for j in range(spam_test.shape[1]):\n",
    "#         hamPro = hamPro + l[0][j] * spam_test[i, j]\n",
    "#         spamPro = spamPro + l[1][j] * spam_test[i, j]\n",
    "    if(result2[0][i] < result2[1][i]):\n",
    "        tp = tp + 1\n",
    "    else:\n",
    "        fn = fn + 1"
   ]
  },
  {
   "cell_type": "code",
   "execution_count": 33,
   "metadata": {},
   "outputs": [
    {
     "name": "stdout",
     "output_type": "stream",
     "text": [
      "0.9866989117291415\n",
      "0.9725906277630415\n",
      "0.9786476868327402\n"
     ]
    }
   ],
   "source": [
    "print( (tp + tn) / (tp + tn + fp + fn) )\n",
    "print(tp / (tp + fp))\n",
    "print(tp / (tp + fn))"
   ]
  }
 ],
 "metadata": {
  "kernelspec": {
   "display_name": "Python 3",
   "language": "python",
   "name": "python3"
  },
  "language_info": {
   "codemirror_mode": {
    "name": "ipython",
    "version": 3
   },
   "file_extension": ".py",
   "mimetype": "text/x-python",
   "name": "python",
   "nbconvert_exporter": "python",
   "pygments_lexer": "ipython3",
   "version": "3.6.5"
  }
 },
 "nbformat": 4,
 "nbformat_minor": 2
}
